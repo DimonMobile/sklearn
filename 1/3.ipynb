{
 "cells": [
  {
   "cell_type": "code",
   "execution_count": 1,
   "metadata": {},
   "outputs": [
    {
     "name": "stderr",
     "output_type": "stream",
     "text": [
      "c:\\users\\d.plotnikov\\documents\\my\\bstu\\sklearn\\1\\venv\\lib\\site-packages\\sklearn\\externals\\six.py:28: FutureWarning: The module is deprecated in version 0.21 and will be removed in version 0.23 since we've dropped support for Python 2.7. Please rely on the official version of six (https://pypi.org/project/six/).\n",
      "  warnings.warn(\"The module is deprecated in version 0.21 and will be removed \"\n",
      "c:\\users\\d.plotnikov\\documents\\my\\bstu\\sklearn\\1\\venv\\lib\\site-packages\\sklearn\\externals\\joblib\\__init__.py:15: FutureWarning: sklearn.externals.joblib is deprecated in 0.21 and will be removed in 0.23. Please import this functionality directly from joblib, which can be installed with: pip install joblib. If this warning is raised when loading pickled models, you may need to re-serialize those models with scikit-learn 0.21+.\n",
      "  warnings.warn(msg, category=FutureWarning)\n"
     ]
    }
   ],
   "source": [
    "import matplotlib.pyplot as plt\n",
    "import mglearn"
   ]
  },
  {
   "cell_type": "code",
   "execution_count": 15,
   "metadata": {},
   "outputs": [],
   "source": [
    "x, y = mglearn.datasets.make_forge()"
   ]
  },
  {
   "cell_type": "code",
   "execution_count": 26,
   "metadata": {},
   "outputs": [
    {
     "data": {
      "text/plain": [
       "[<matplotlib.lines.Line2D at 0x15f01d8>,\n",
       " <matplotlib.lines.Line2D at 0x15f08b0>]"
      ]
     },
     "execution_count": 26,
     "metadata": {},
     "output_type": "execute_result"
    },
    {
     "data": {
      "image/png": "[encoded data removed]",
      "text/plain": [
       "<Figure size 432x288 with 1 Axes>"
      ]
     },
     "metadata": {
      "needs_background": "light"
     },
     "output_type": "display_data"
    }
   ],
   "source": [
    "mglearn.discrete_scatter(x[:, 0], x[:, 1], y)"
   ]
  },
  {
   "cell_type": "code",
   "execution_count": 37,
   "metadata": {},
   "outputs": [
    {
     "data": {
      "text/plain": [
       "Text(0, 0.5, 'Целевая переменная')"
      ]
     },
     "execution_count": 37,
     "metadata": {},
     "output_type": "execute_result"
    },
    {
     "data": {
      "image/png": "[encoded data removed]",
      "text/plain": [
       "<Figure size 432x288 with 1 Axes>"
      ]
     },
     "metadata": {
      "needs_background": "light"
     },
     "output_type": "display_data"
    }
   ],
   "source": [
    "x, y = mglearn.datasets.make_wave(n_samples=40)\n",
    "plt.plot(x, y, 'o')\n",
    "plt.ylim(-3, 3)\n",
    "plt.xlabel('Признак')\n",
    "plt.ylabel('Целевая переменная')"
   ]
  },
  {
   "cell_type": "code",
   "execution_count": 43,
   "metadata": {},
   "outputs": [],
   "source": [
    "from sklearn.datasets import load_breast_cancer\n",
    "cancer = load_breast_cancer()\n",
    "from IPython.display import display, Markdown"
   ]
  },
  {
   "cell_type": "code",
   "execution_count": 45,
   "metadata": {
    "scrolled": true
   },
   "outputs": [
    {
     "data": {
      "text/markdown": [
       ".. _breast_cancer_dataset:\n",
       "\n",
       "Breast cancer wisconsin (diagnostic) dataset\n",
       "--------------------------------------------\n",
       "\n",
       "**Data Set Characteristics:**\n",
       "\n",
       "    :Number of Instances: 569\n",
       "\n",
       "    :Number of Attributes: 30 numeric, predictive attributes and the class\n",
       "\n",
       "    :Attribute Information:\n",
       "        - radius (mean of distances from center to points on the perimeter)\n",
       "        - texture (standard deviation of gray-scale values)\n",
       "        - perimeter\n",
       "        - area\n",
       "        - smoothness (local variation in radius lengths)\n",
       "        - compactness (perimeter^2 / area - 1.0)\n",
       "        - concavity (severity of concave portions of the contour)\n",
       "        - concave points (number of concave portions of the contour)\n",
       "        - symmetry \n",
       "        - fractal dimension (\"coastline approximation\" - 1)\n",
       "\n",
       "        The mean, standard error, and \"worst\" or largest (mean of the three\n",
       "        largest values) of these features were computed for each image,\n",
       "        resulting in 30 features.  For instance, field 3 is Mean Radius, field\n",
       "        13 is Radius SE, field 23 is Worst Radius.\n",
       "\n",
       "        - class:\n",
       "                - WDBC-Malignant\n",
       "                - WDBC-Benign\n",
       "\n",
       "    :Summary Statistics:\n",
       "\n",
       "    ===================================== ====== ======\n",
       "                                           Min    Max\n",
       "    ===================================== ====== ======\n",
       "    radius (mean):                        6.981  28.11\n",
       "    texture (mean):                       9.71   39.28\n",
       "    perimeter (mean):                     43.79  188.5\n",
       "    area (mean):                          143.5  2501.0\n",
       "    smoothness (mean):                    0.053  0.163\n",
       "    compactness (mean):                   0.019  0.345\n",
       "    concavity (mean):                     0.0    0.427\n",
       "    concave points (mean):                0.0    0.201\n",
       "    symmetry (mean):                      0.106  0.304\n",
       "    fractal dimension (mean):             0.05   0.097\n",
       "    radius (standard error):              0.112  2.873\n",
       "    texture (standard error):             0.36   4.885\n",
       "    perimeter (standard error):           0.757  21.98\n",
       "    area (standard error):                6.802  542.2\n",
       "    smoothness (standard error):          0.002  0.031\n",
       "    compactness (standard error):         0.002  0.135\n",
       "    concavity (standard error):           0.0    0.396\n",
       "    concave points (standard error):      0.0    0.053\n",
       "    symmetry (standard error):            0.008  0.079\n",
       "    fractal dimension (standard error):   0.001  0.03\n",
       "    radius (worst):                       7.93   36.04\n",
       "    texture (worst):                      12.02  49.54\n",
       "    perimeter (worst):                    50.41  251.2\n",
       "    area (worst):                         185.2  4254.0\n",
       "    smoothness (worst):                   0.071  0.223\n",
       "    compactness (worst):                  0.027  1.058\n",
       "    concavity (worst):                    0.0    1.252\n",
       "    concave points (worst):               0.0    0.291\n",
       "    symmetry (worst):                     0.156  0.664\n",
       "    fractal dimension (worst):            0.055  0.208\n",
       "    ===================================== ====== ======\n",
       "\n",
       "    :Missing Attribute Values: None\n",
       "\n",
       "    :Class Distribution: 212 - Malignant, 357 - Benign\n",
       "\n",
       "    :Creator:  Dr. William H. Wolberg, W. Nick Street, Olvi L. Mangasarian\n",
       "\n",
       "    :Donor: Nick Street\n",
       "\n",
       "    :Date: November, 1995\n",
       "\n",
       "This is a copy of UCI ML Breast Cancer Wisconsin (Diagnostic) datasets.\n",
       "https://goo.gl/U2Uwz2\n",
       "\n",
       "Features are computed from a digitized image of a fine needle\n",
       "aspirate (FNA) of a breast mass.  They describe\n",
       "characteristics of the cell nuclei present in the image.\n",
       "\n",
       "Separating plane described above was obtained using\n",
       "Multisurface Method-Tree (MSM-T) [K. P. Bennett, \"Decision Tree\n",
       "Construction Via Linear Programming.\" Proceedings of the 4th\n",
       "Midwest Artificial Intelligence and Cognitive Science Society,\n",
       "pp. 97-101, 1992], a classification method which uses linear\n",
       "programming to construct a decision tree.  Relevant features\n",
       "were selected using an exhaustive search in the space of 1-4\n",
       "features and 1-3 separating planes.\n",
       "\n",
       "The actual linear program used to obtain the separating plane\n",
       "in the 3-dimensional space is that described in:\n",
       "[K. P. Bennett and O. L. Mangasarian: \"Robust Linear\n",
       "Programming Discrimination of Two Linearly Inseparable Sets\",\n",
       "Optimization Methods and Software 1, 1992, 23-34].\n",
       "\n",
       "This database is also available through the UW CS ftp server:\n",
       "\n",
       "ftp ftp.cs.wisc.edu\n",
       "cd math-prog/cpo-dataset/machine-learn/WDBC/\n",
       "\n",
       ".. topic:: References\n",
       "\n",
       "   - W.N. Street, W.H. Wolberg and O.L. Mangasarian. Nuclear feature extraction \n",
       "     for breast tumor diagnosis. IS&T/SPIE 1993 International Symposium on \n",
       "     Electronic Imaging: Science and Technology, volume 1905, pages 861-870,\n",
       "     San Jose, CA, 1993.\n",
       "   - O.L. Mangasarian, W.N. Street and W.H. Wolberg. Breast cancer diagnosis and \n",
       "     prognosis via linear programming. Operations Research, 43(4), pages 570-577, \n",
       "     July-August 1995.\n",
       "   - W.H. Wolberg, W.N. Street, and O.L. Mangasarian. Machine learning techniques\n",
       "     to diagnose breast cancer from fine-needle aspirates. Cancer Letters 77 (1994) \n",
       "     163-171."
      ],
      "text/plain": [
       "<IPython.core.display.Markdown object>"
      ]
     },
     "metadata": {},
     "output_type": "display_data"
    }
   ],
   "source": [
    "display(Markdown(cancer.DESCR))"
   ]
  },
  {
   "cell_type": "code",
   "execution_count": 47,
   "metadata": {
    "scrolled": true
   },
   "outputs": [
    {
     "data": {
      "text/markdown": [
       ".. _boston_dataset:\n",
       "\n",
       "Boston house prices dataset\n",
       "---------------------------\n",
       "\n",
       "**Data Set Characteristics:**  \n",
       "\n",
       "    :Number of Instances: 506 \n",
       "\n",
       "    :Number of Attributes: 13 numeric/categorical predictive. Median Value (attribute 14) is usually the target.\n",
       "\n",
       "    :Attribute Information (in order):\n",
       "        - CRIM     per capita crime rate by town\n",
       "        - ZN       proportion of residential land zoned for lots over 25,000 sq.ft.\n",
       "        - INDUS    proportion of non-retail business acres per town\n",
       "        - CHAS     Charles River dummy variable (= 1 if tract bounds river; 0 otherwise)\n",
       "        - NOX      nitric oxides concentration (parts per 10 million)\n",
       "        - RM       average number of rooms per dwelling\n",
       "        - AGE      proportion of owner-occupied units built prior to 1940\n",
       "        - DIS      weighted distances to five Boston employment centres\n",
       "        - RAD      index of accessibility to radial highways\n",
       "        - TAX      full-value property-tax rate per $10,000\n",
       "        - PTRATIO  pupil-teacher ratio by town\n",
       "        - B        1000(Bk - 0.63)^2 where Bk is the proportion of blacks by town\n",
       "        - LSTAT    % lower status of the population\n",
       "        - MEDV     Median value of owner-occupied homes in $1000's\n",
       "\n",
       "    :Missing Attribute Values: None\n",
       "\n",
       "    :Creator: Harrison, D. and Rubinfeld, D.L.\n",
       "\n",
       "This is a copy of UCI ML housing dataset.\n",
       "https://archive.ics.uci.edu/ml/machine-learning-databases/housing/\n",
       "\n",
       "\n",
       "This dataset was taken from the StatLib library which is maintained at Carnegie Mellon University.\n",
       "\n",
       "The Boston house-price data of Harrison, D. and Rubinfeld, D.L. 'Hedonic\n",
       "prices and the demand for clean air', J. Environ. Economics & Management,\n",
       "vol.5, 81-102, 1978.   Used in Belsley, Kuh & Welsch, 'Regression diagnostics\n",
       "...', Wiley, 1980.   N.B. Various transformations are used in the table on\n",
       "pages 244-261 of the latter.\n",
       "\n",
       "The Boston house-price data has been used in many machine learning papers that address regression\n",
       "problems.   \n",
       "     \n",
       ".. topic:: References\n",
       "\n",
       "   - Belsley, Kuh & Welsch, 'Regression diagnostics: Identifying Influential Data and Sources of Collinearity', Wiley, 1980. 244-261.\n",
       "   - Quinlan,R. (1993). Combining Instance-Based and Model-Based Learning. In Proceedings on the Tenth International Conference of Machine Learning, 236-243, University of Massachusetts, Amherst. Morgan Kaufmann.\n"
      ],
      "text/plain": [
       "<IPython.core.display.Markdown object>"
      ]
     },
     "metadata": {},
     "output_type": "display_data"
    }
   ],
   "source": [
    "from sklearn.datasets import load_boston\n",
    "boston = load_boston()\n",
    "display(Markdown(boston.DESCR))"
   ]
  },
  {
   "cell_type": "code",
   "execution_count": 52,
   "metadata": {},
   "outputs": [
    {
     "name": "stderr",
     "output_type": "stream",
     "text": [
      "c:\\users\\d.plotnikov\\documents\\my\\bstu\\sklearn\\1\\venv\\lib\\site-packages\\sklearn\\utils\\deprecation.py:87: FutureWarning: Function make_blobs is deprecated; Please import make_blobs directly from scikit-learn\n",
      "  warnings.warn(msg, category=FutureWarning)\n"
     ]
    },
    {
     "data": {
      "image/png": "[encoded data removed]",
      "text/plain": [
       "<Figure size 432x288 with 1 Axes>"
      ]
     },
     "metadata": {
      "needs_background": "light"
     },
     "output_type": "display_data"
    }
   ],
   "source": [
    "mglearn.plots.plot_knn_classification(n_neighbors=3)"
   ]
  },
  {
   "cell_type": "code",
   "execution_count": 54,
   "metadata": {},
   "outputs": [],
   "source": [
    "from sklearn.model_selection import train_test_split\n",
    "x, y = mglearn.datasets.make_forge()\n",
    "x_train, x_test, y_train, y_test = train_test_split(x, y, random_state = 0)"
   ]
  },
  {
   "cell_type": "code",
   "execution_count": 58,
   "metadata": {},
   "outputs": [
    {
     "data": {
      "text/plain": [
       "KNeighborsClassifier(algorithm='auto', leaf_size=30, metric='minkowski',\n",
       "                     metric_params=None, n_jobs=None, n_neighbors=3, p=2,\n",
       "                     weights='uniform')"
      ]
     },
     "execution_count": 58,
     "metadata": {},
     "output_type": "execute_result"
    }
   ],
   "source": [
    "from sklearn.neighbors import KNeighborsClassifier\n",
    "clf = KNeighborsClassifier(n_neighbors=3)\n",
    "clf.fit(x_train, y_train)"
   ]
  },
  {
   "cell_type": "code",
   "execution_count": 68,
   "metadata": {},
   "outputs": [
    {
     "data": {
      "text/plain": [
       "0.8571428571428571"
      ]
     },
     "execution_count": 68,
     "metadata": {},
     "output_type": "execute_result"
    }
   ],
   "source": [
    "clf.score(x_test, y_test)"
   ]
  }
 ],
 "metadata": {
  "kernelspec": {
   "display_name": "Python 3",
   "language": "python",
   "name": "python3"
  },
  "language_info": {
   "codemirror_mode": {
    "name": "ipython",
    "version": 3
   },
   "file_extension": ".py",
   "mimetype": "text/x-python",
   "name": "python",
   "nbconvert_exporter": "python",
   "pygments_lexer": "ipython3",
   "version": "3.8.1"
  }
 },
 "nbformat": 4,
 "nbformat_minor": 4
}
